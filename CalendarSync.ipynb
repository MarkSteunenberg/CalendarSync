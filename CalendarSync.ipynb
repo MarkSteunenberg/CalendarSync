{
 "cells": [
  {
   "cell_type": "markdown",
   "metadata": {},
   "source": [
    "## Step 0 - Set variables"
   ]
  },
  {
   "cell_type": "code",
   "execution_count": 423,
   "metadata": {},
   "outputs": [],
   "source": [
    "# Step 0 block 1:  install libraries\n",
    "\n",
    "#pip install azure-storage-blob\n",
    "#pip install pandas\n",
    "#pip install pywin32"
   ]
  },
  {
   "cell_type": "code",
   "execution_count": 424,
   "metadata": {},
   "outputs": [],
   "source": [
    "# Step 0 block 2:  import libraries\n",
    "\n",
    "import win32com.client, datetime \n",
    "from datetime import datetime, date, timedelta  \n",
    "from dateutil.parser import *\n",
    "import calendar\n",
    "import os\n",
    "import pandas as pd\n",
    "from azure.storage.blob import  BlobServiceClient, BlobClient, ContainerClient, __version__"
   ]
  },
  {
   "cell_type": "code",
   "execution_count": 425,
   "metadata": {},
   "outputs": [],
   "source": [
    "# Step 0 block 3:  set the variables\n",
    "\n",
    "vAccount = '[Mark]' # add you own account name\n",
    "vStartDate = '18/09/2022' # the day you want to start syncing\n",
    "vNumberofWeeks = 4 # how far in the future it should sync"
   ]
  },
  {
   "cell_type": "code",
   "execution_count": 426,
   "metadata": {},
   "outputs": [
    {
     "name": "stdout",
     "output_type": "stream",
     "text": [
      "18/09/2022\n",
      "2022-09-18 00:00:00\n",
      "16/10/22\n"
     ]
    }
   ],
   "source": [
    "# Step 0 block 4:  calculate the end date\n",
    "\n",
    "specific_date = datetime.strptime(vStartDate, \"%d/%m/%Y\")\n",
    "new_date = specific_date + timedelta(vNumberofWeeks*7)\n",
    "vEndDate =new_date.date().strftime('%d/%m/%y')\n",
    "\n",
    "print (vStartDate)\n",
    "print (specific_date)\n",
    "print (vEndDate)"
   ]
  },
  {
   "cell_type": "markdown",
   "metadata": {},
   "source": [
    "## step 1 - Read how many accounts there are"
   ]
  },
  {
   "cell_type": "code",
   "execution_count": 427,
   "metadata": {},
   "outputs": [
    {
     "name": "stdout",
     "output_type": "stream",
     "text": [
      "DefaultEndpointsProtocol=https;AccountName=agendaitems;AccountKey=2q4rb8eLVYNudOLm5u5wmnuMtnBA36o0d3F7OJuUKYzBHe5uMZ1qnqtUBCksKUn+AyLYhI0PXXMN+AStoQc8GQ==;EndpointSuffix=core.windows.net\n"
     ]
    }
   ],
   "source": [
    "# Step 1, block 1:  Set connection string\n",
    "connect_str = \"\" #create connection string from Azure portal to a blob storage account\n",
    "# see https://docs.microsoft.com/en-gb/azure/storage/blobs/storage-quickstart-blobs-python?tabs=environment-variable-windows for the steps\n",
    "print(connect_str)"
   ]
  },
  {
   "cell_type": "code",
   "execution_count": 428,
   "metadata": {},
   "outputs": [
    {
     "name": "stdout",
     "output_type": "stream",
     "text": [
      "\n",
      "Listing blobs...\n",
      "\t[Mark].csv\n",
      "Exception:\n",
      "[Errno 13] Permission denied: './Agenda Synchronisation/[Mark].csv'\n"
     ]
    }
   ],
   "source": [
    "# Step 1 block 2: download all files from blob storage\n",
    "\n",
    "try:\n",
    "\n",
    "    # Create the BlobServiceClient object which will be used to create a container client\n",
    "    blob_service_client = BlobServiceClient.from_connection_string(connect_str)\n",
    "    container_name = 'agenda'\n",
    "    # List containers\n",
    "    container_client = blob_service_client.get_container_client(container_name)\n",
    "\n",
    "    print(\"\\nListing blobs...\")\n",
    "\n",
    "\n",
    "    # List the blobs in the container\n",
    "    blob_list = container_client.list_blobs()\n",
    "    blob_client = blob_service_client.get_container_client(container= container_name) \n",
    "\n",
    "\n",
    "    for blob in blob_list:\n",
    "        print(\"\\t\" + blob.name)\n",
    "        download_file_path = './Agenda Synchronisation/' + blob.name\n",
    "        with open(download_file_path, \"wb\") as download_file:\n",
    "            download_file.write(blob_client.download_blob(blob.name).readall())\n",
    "\n",
    "except Exception as ex:\n",
    "    print('Exception:')\n",
    "    print(ex)"
   ]
  },
  {
   "cell_type": "markdown",
   "metadata": {},
   "source": [
    "## Step 2 - Read all calender Items (from own agenda)"
   ]
  },
  {
   "cell_type": "code",
   "execution_count": 429,
   "metadata": {},
   "outputs": [],
   "source": [
    "# Step 2, block 1 : access Outlook and get events from the calendar\n",
    "Outlook = win32com.client.Dispatch('Outlook.Application')\n",
    "ns = Outlook.GetNamespace('MAPI')\n",
    "appts = ns.GetDefaultFolder(9).Items"
   ]
  },
  {
   "cell_type": "code",
   "execution_count": 430,
   "metadata": {},
   "outputs": [],
   "source": [
    "\n",
    "# Step 2, block 2 : sort events by occurrence and include recurring events\n",
    "appts.Sort('[Start]')\n",
    "appts.IncludeRecurrences = 'True'"
   ]
  },
  {
   "cell_type": "code",
   "execution_count": 431,
   "metadata": {},
   "outputs": [
    {
     "name": "stdout",
     "output_type": "stream",
     "text": [
      "[Start] >= '18/09/2022' AND [End] <= '16/10/22'\n",
      "18/09/2022\n",
      "16/10/22\n"
     ]
    }
   ],
   "source": [
    "# Step 2, block 3 : block out the events that are not in the date range\n",
    "\n",
    "restriction = \"[Start] >= '\" + vStartDate + \"' AND [End] <= '\" +vEndDate + \"'\"\n",
    "appts = appts.Restrict(restriction)\n",
    "\n",
    "print(restriction)\n",
    "print(vStartDate)\n",
    "print(vEndDate)\n"
   ]
  },
  {
   "cell_type": "code",
   "execution_count": 432,
   "metadata": {},
   "outputs": [
    {
     "name": "stdout",
     "output_type": "stream",
     "text": [
      "['[Anouk].csv', '[Mark].csv', '[Rabobank].csv']\n",
      "['[Anouk]', '[Mark]', '[Rabobank]']\n"
     ]
    }
   ],
   "source": [
    "# Step 2, block 4 : get all accounts from that directory\n",
    "\n",
    "#os.listdir()\n",
    "agendas = os.listdir(\"./Agenda Synchronisation\")\n",
    "print(agendas)\n",
    "# remove csv from name in agendas\n",
    "agendas = [x.replace('.csv', '') for x in agendas]\n",
    "print(agendas)"
   ]
  },
  {
   "cell_type": "code",
   "execution_count": 433,
   "metadata": {},
   "outputs": [],
   "source": [
    "# Step 2, block 5 : populate array with meetings from our own agenda\n",
    "\n",
    "apptDict = {}\n",
    "item = 0\n",
    "for indx, a in enumerate(appts):\n",
    "     # if a part of subject is in agenda list\n",
    "     if any(x in a.Subject for x in agendas):\n",
    "              subject = str(a.Subject)\n",
    "     else:\n",
    "              subject = vAccount + ' '+ a.subject\n",
    "              #organizer = str(a.Organizer)\n",
    "              meetingStartDate = str(a.Start)\n",
    "              meetingEndDate = str(a.end)\n",
    "              StartDate = parse(meetingStartDate).date()\n",
    "              EndDate = parse(meetingEndDate).date()   \n",
    "              duration = str(a.duration)\n",
    "              location = str(a.location)\n",
    "              organiser = str(a.GetOrganizer())\n",
    "              apptDict[item] = {\n",
    "                     'Duration': duration,  \n",
    "                     'Subject':  subject, \n",
    "                     #'StartDate': meetingStartDate.strftime('%d/%m/%Y  %H:%M:%S'),\n",
    "                     'StartDate': meetingStartDate,\n",
    "                     'EndDate' : EndDate.strftime('%m/%d/%Y'),\n",
    "                     'Organizer' : organiser,\n",
    "                     'Location' : location,\n",
    "                     'Categories': vAccount\n",
    "              \n",
    "              }\n",
    "              item = item + 1\n",
    "    \n",
    "   # organiser nog niet "
   ]
  },
  {
   "cell_type": "code",
   "execution_count": null,
   "metadata": {},
   "outputs": [],
   "source": [
    "# Step 2, block 6 : create a dataframe from the array`\n",
    "# `\n",
    "apt_df = pd.DataFrame.from_dict(apptDict, orient='index', columns = ['Duration', 'Organizer', 'Subject', 'StartDate', 'Location', 'Categories'])\n",
    "apt_df"
   ]
  },
  {
   "cell_type": "markdown",
   "metadata": {},
   "source": [
    "## Step 3 - Export calendar items to csv"
   ]
  },
  {
   "cell_type": "code",
   "execution_count": 435,
   "metadata": {},
   "outputs": [
    {
     "name": "stdout",
     "output_type": "stream",
     "text": [
      "./Agenda Synchronisation/[Mark].csv\n"
     ]
    }
   ],
   "source": [
    "# Step 3, block 1 : write the data frame to a csv file\n",
    "filename = \"./Agenda Synchronisation/\" + vAccount + '.csv'\n",
    "apt_df.to_csv (filename, index = True, header=True)\n",
    "print (filename)"
   ]
  },
  {
   "cell_type": "markdown",
   "metadata": {},
   "source": [
    "## Step 4 - Upload csv to blob"
   ]
  },
  {
   "cell_type": "code",
   "execution_count": 436,
   "metadata": {},
   "outputs": [
    {
     "name": "stdout",
     "output_type": "stream",
     "text": [
      "\n",
      "Uploading to Azure Storage as blob:\n",
      "\t[Mark]\n"
     ]
    }
   ],
   "source": [
    "# Step 4, block 1 : upload the csv file to blob storage\n",
    "\n",
    "try:    \n",
    "    # Create the BlobServiceClient object which will be used to create a container client\n",
    "    blob_service_client = BlobServiceClient.from_connection_string(connect_str)\n",
    "    \n",
    "    #Upload the meeting list to the blob\n",
    "    #print (upload_file_path)\n",
    "\n",
    "    container_name = \"agenda\" \n",
    "    \n",
    "    blob_client = blob_service_client.get_blob_client(container=container_name, blob=vAccount + '.csv')\n",
    "\n",
    "    print(\"\\nUploading to Azure Storage as blob:\\n\\t\" + vAccount)\n",
    "    \n",
    "    #upload the file\n",
    "    with open(filename, \"rb\") as data:\n",
    "        blob_client.upload_blob(data, overwrite=True)\n",
    "    \n",
    "\n",
    "except Exception as ex:\n",
    "    print('Exception:')\n",
    "    print(ex)"
   ]
  },
  {
   "cell_type": "markdown",
   "metadata": {},
   "source": [
    "## Step 5 delete Items from other account\n"
   ]
  },
  {
   "cell_type": "code",
   "execution_count": 418,
   "metadata": {},
   "outputs": [],
   "source": [
    "# Step 5, block 1: determine the length of the calendar\n",
    "items = 0\n",
    "for a in appts:\n",
    "    items = items + 1\n",
    "    \n"
   ]
  },
  {
   "cell_type": "code",
   "execution_count": 419,
   "metadata": {},
   "outputs": [],
   "source": [
    "# Step 5, block 2: reverse loop the agenda, delete the events that are from another account\n",
    "\n",
    "for a in range(items, 0, -1):\n",
    "    subject_name = appts(a).subject[0:appts(a).subject.find(\" \", 1) ]\n",
    "    \n",
    "    #print(a.subject.find(\" \", 1))\n",
    "    if  subject_name in agendas:\n",
    "        appts(a).delete()              \n"
   ]
  },
  {
   "cell_type": "markdown",
   "metadata": {},
   "source": [
    "## Step 6 - Import all other accounts to agenda"
   ]
  },
  {
   "cell_type": "code",
   "execution_count": 420,
   "metadata": {},
   "outputs": [],
   "source": [
    "# Step 6, block 1: read all csv's and import them into the calendar\n",
    "\n",
    "for agenda in agendas:\n",
    "    if (agenda != vAccount):\n",
    "        file_name =  \"./Agenda Synchronisation/\" + agenda + '.csv'\n",
    "\n",
    "        #load csv into dataframe\n",
    "        df = pd.read_csv(file_name, sep=',')\n",
    "\n",
    "        #load agenda items\n",
    "        outlook = win32com.client.Dispatch(\"Outlook.Application\")\n",
    "        \n",
    "        for index, row in df.iterrows():\n",
    "            appt = outlook.CreateItem(1)\n",
    "            appt.Start = row['StartDate'].removesuffix('+00:00')\n",
    "            appt.Duration = row['Duration']\n",
    "            appt.Subject = row['Subject']\n",
    "            appt.Location = row['Location']\n",
    "            appt.Categories = row['Categories']\n",
    "            appt.Sensitivity = 2\n",
    "            appt.Save()        "
   ]
  }
 ],
 "metadata": {
  "kernelspec": {
   "display_name": "Python 3.10.7 64-bit",
   "language": "python",
   "name": "python3"
  },
  "language_info": {
   "codemirror_mode": {
    "name": "ipython",
    "version": 3
   },
   "file_extension": ".py",
   "mimetype": "text/x-python",
   "name": "python",
   "nbconvert_exporter": "python",
   "pygments_lexer": "ipython3",
   "version": "3.10.7"
  },
  "orig_nbformat": 4,
  "vscode": {
   "interpreter": {
    "hash": "a7dbb88c84ecda04e2dfa8176cb6708abf8c95c32934f510df16d1a1f4945387"
   }
  }
 },
 "nbformat": 4,
 "nbformat_minor": 2
}
